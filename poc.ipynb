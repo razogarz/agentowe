{
 "cells": [
  {
   "metadata": {
    "ExecuteTime": {
     "end_time": "2025-03-28T13:54:22.032294Z",
     "start_time": "2025-03-28T13:54:22.020500Z"
    }
   },
   "cell_type": "code",
   "source": [
    "import mesa\n",
    "import numpy as np\n",
    "import skfuzzy as fuzz\n",
    "import matplotlib.pyplot as plt\n",
    "\n",
    "class FuzzyHerbivore(mesa.Agent):\n",
    "    def __init__(self, model, hunger=0.5):\n",
    "        super().__init__(model)\n",
    "        self.hunger = hunger\n",
    "\n",
    "    def fuzzy_decision(self):\n",
    "        x_hunger = np.arange(0, 1.01, 0.01)\n",
    "        hunger_low = fuzz.trimf(x_hunger, [0, 0, 0.5])\n",
    "        hunger_med = fuzz.trimf(x_hunger, [0, 0.5, 1])\n",
    "        hunger_high = fuzz.trimf(x_hunger, [0.5, 1, 1])\n",
    "\n",
    "        membership_low = fuzz.interp_membership(x_hunger, hunger_low, self.hunger)\n",
    "        membership_med = fuzz.interp_membership(x_hunger, hunger_med, self.hunger)\n",
    "        membership_high = fuzz.interp_membership(x_hunger, hunger_high, self.hunger)\n",
    "\n",
    "        memberships = {\"eat\": membership_high, \"breed\": membership_low, \"move\": membership_med}\n",
    "        action = max(memberships, key=memberships.get)\n",
    "        return action\n",
    "\n",
    "    def step(self):\n",
    "        decision = self.fuzzy_decision()\n",
    "        # if decision != \"move\":\n",
    "        print(f\"Agent {self.unique_id} (hunger={self.hunger:.2f}) decides to {decision}.\")\n",
    "        if decision == \"eat\":\n",
    "            self.hunger = max(self.hunger - 0.3, 0)\n",
    "        else:\n",
    "            self.hunger = min(self.hunger + 0.1, 1)\n",
    "\n",
    "class SimpleModel(mesa.Model):\n",
    "    def __init__(self, n, seed=None):\n",
    "        super().__init__(seed=seed)\n",
    "        self.num_agents = n\n",
    "\n",
    "        FuzzyHerbivore.create_agents(model=self, n=n)\n",
    "\n",
    "    def step(self):\n",
    "        self.agents.shuffle_do(\"step\")"
   ],
   "id": "3ce5d0aff3183ded",
   "outputs": [],
   "execution_count": 18
  },
  {
   "metadata": {
    "ExecuteTime": {
     "end_time": "2025-03-28T13:54:25.918204Z",
     "start_time": "2025-03-28T13:54:22.085235Z"
    }
   },
   "cell_type": "code",
   "source": [
    "starter_model = SimpleModel(100)\n",
    "\n",
    "for s in range(1000):\n",
    "    starter_model.step()"
   ],
   "id": "89fdb10f1d5c5745",
   "outputs": [],
   "execution_count": 19
  }
 ],
 "metadata": {
  "kernelspec": {
   "display_name": "Python 3",
   "language": "python",
   "name": "python3"
  },
  "language_info": {
   "codemirror_mode": {
    "name": "ipython",
    "version": 2
   },
   "file_extension": ".py",
   "mimetype": "text/x-python",
   "name": "python",
   "nbconvert_exporter": "python",
   "pygments_lexer": "ipython2",
   "version": "2.7.6"
  }
 },
 "nbformat": 4,
 "nbformat_minor": 5
}
